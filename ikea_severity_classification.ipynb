{
 "cells": [
  {
   "cell_type": "code",
   "execution_count": 1,
   "metadata": {},
   "outputs": [],
   "source": [
    "import nltk\n",
    "from nltk.corpus import stopwords\n",
    "import numpy as np\n",
    "import pandas as pd\n",
    "from textblob import TextBlob\n",
    "from sklearn.utils import shuffle\n",
    "from nltk.sentiment import SentimentIntensityAnalyzer, SentimentAnalyzer"
   ]
  },
  {
   "cell_type": "code",
   "execution_count": 2,
   "metadata": {},
   "outputs": [],
   "source": [
    "df = pd.read_csv(\"Consumer_Complaints.csv\")"
   ]
  },
  {
   "cell_type": "code",
   "execution_count": 3,
   "metadata": {},
   "outputs": [],
   "source": [
    "df = df[df['Consumer complaint narrative'].notna()].copy()"
   ]
  },
  {
   "cell_type": "code",
   "execution_count": 29,
   "metadata": {},
   "outputs": [],
   "source": [
    "df = shuffle(df)"
   ]
  },
  {
   "cell_type": "code",
   "execution_count": 30,
   "metadata": {},
   "outputs": [],
   "source": [
    "df.reset_index(drop=True, inplace=True)"
   ]
  },
  {
   "cell_type": "code",
   "execution_count": 10,
   "metadata": {},
   "outputs": [],
   "source": [
    "#pip install transformers"
   ]
  },
  {
   "cell_type": "code",
   "execution_count": 12,
   "metadata": {},
   "outputs": [],
   "source": [
    "#pip install tensorflow"
   ]
  },
  {
   "cell_type": "code",
   "execution_count": 6,
   "metadata": {},
   "outputs": [],
   "source": [
    "import tensorflow as tf"
   ]
  },
  {
   "cell_type": "code",
   "execution_count": 7,
   "metadata": {},
   "outputs": [
    {
     "data": {
      "text/plain": [
       "'2.4.1'"
      ]
     },
     "execution_count": 7,
     "metadata": {},
     "output_type": "execute_result"
    }
   ],
   "source": [
    "tf.__version__"
   ]
  },
  {
   "cell_type": "code",
   "execution_count": 8,
   "metadata": {},
   "outputs": [],
   "source": [
    "from transformers import pipeline"
   ]
  },
  {
   "cell_type": "code",
   "execution_count": 10,
   "metadata": {
    "scrolled": true
   },
   "outputs": [
    {
     "name": "stderr",
     "output_type": "stream",
     "text": [
      "All model checkpoint layers were used when initializing TFRobertaForSequenceClassification.\n",
      "\n",
      "All the layers of TFRobertaForSequenceClassification were initialized from the model checkpoint at roberta-large-mnli.\n",
      "If your task is similar to the task the model of the checkpoint was trained on, you can already use TFRobertaForSequenceClassification for predictions without further training.\n"
     ]
    }
   ],
   "source": [
    "clas = pipeline(\"zero-shot-classification\")"
   ]
  },
  {
   "cell_type": "code",
   "execution_count": 66,
   "metadata": {},
   "outputs": [],
   "source": [
    "labels = ['query', 'complaint']"
   ]
  },
  {
   "cell_type": "code",
   "execution_count": 68,
   "metadata": {
    "scrolled": false
   },
   "outputs": [
    {
     "name": "stdout",
     "output_type": "stream",
     "text": [
      "20 query 0.5862021446228027\n",
      "21 complaint 0.5648579597473145\n",
      "22 query 0.6455450057983398\n",
      "23 complaint 0.5917632579803467\n",
      "24 complaint 0.6334915161132812\n",
      "25 complaint 0.5845207571983337\n",
      "26 complaint 0.6812497973442078\n",
      "27 complaint 0.6008656620979309\n",
      "28 complaint 0.5034773945808411\n",
      "29 complaint 0.8135043382644653\n",
      "30 complaint 0.9025009870529175\n",
      "31 complaint 0.6172152757644653\n",
      "32 query 0.5517237782478333\n",
      "33 complaint 0.7611649632453918\n",
      "34 query 0.7053495645523071\n",
      "35 complaint 0.539709746837616\n",
      "36 complaint 0.7709192037582397\n",
      "37 complaint 0.8691521286964417\n",
      "38 complaint 0.5378570556640625\n",
      "39 query 0.5334275364875793\n"
     ]
    }
   ],
   "source": [
    "for i in range(20, 40):\n",
    "    out = clas(df['Consumer complaint narrative'][i], labels)\n",
    "    print(i, out['labels'][0],out['scores'][0])"
   ]
  },
  {
   "cell_type": "code",
   "execution_count": 69,
   "metadata": {},
   "outputs": [
    {
     "data": {
      "text/plain": [
       "'XXXX has discriminated against me by not letting me create online account also, Filed a dispute not providing any help for dispute, XXXX rep XXXX, states that it takes 90 days to resolve a dispute. Card number XXXX Exp XX/XX/XXXX'"
      ]
     },
     "execution_count": 69,
     "metadata": {},
     "output_type": "execute_result"
    }
   ],
   "source": [
    "df['Consumer complaint narrative'][30]"
   ]
  },
  {
   "cell_type": "code",
   "execution_count": 76,
   "metadata": {},
   "outputs": [
    {
     "data": {
      "text/plain": [
       "'The account is fraud. it has been removed from all other credit bureaus and the collection agency failed to validate the debt in timely fashion ...'"
      ]
     },
     "execution_count": 76,
     "metadata": {},
     "output_type": "execute_result"
    }
   ],
   "source": [
    "df['Consumer complaint narrative'][34]"
   ]
  },
  {
   "cell_type": "code",
   "execution_count": 71,
   "metadata": {},
   "outputs": [],
   "source": [
    "labels = ['minor', 'major', 'critical']"
   ]
  },
  {
   "cell_type": "code",
   "execution_count": 72,
   "metadata": {
    "scrolled": false
   },
   "outputs": [
    {
     "name": "stdout",
     "output_type": "stream",
     "text": [
      "20 minor 0.45441699028015137\n",
      "21 minor 0.3435806930065155\n",
      "22 minor 0.5199289321899414\n",
      "23 major 0.3774605989456177\n",
      "24 minor 0.49103862047195435\n",
      "25 major 0.3528152406215668\n",
      "26 major 0.3904619514942169\n",
      "27 major 0.531267523765564\n",
      "28 minor 0.3534071743488312\n",
      "29 critical 0.37406179308891296\n",
      "30 major 0.4123252332210541\n",
      "31 minor 0.3795100152492523\n",
      "32 minor 0.41983526945114136\n",
      "33 critical 0.4997207224369049\n",
      "34 major 0.5915277004241943\n",
      "35 minor 0.3663720190525055\n",
      "36 critical 0.5238298177719116\n",
      "37 critical 0.5429069399833679\n",
      "38 minor 0.36214137077331543\n",
      "39 major 0.3679291307926178\n"
     ]
    }
   ],
   "source": [
    "for i in range(20, 40):\n",
    "    out = clas(df['Consumer complaint narrative'][i], labels)\n",
    "    print(i, out['labels'][0], out['scores'][0])"
   ]
  },
  {
   "cell_type": "code",
   "execution_count": 74,
   "metadata": {
    "scrolled": true
   },
   "outputs": [
    {
     "data": {
      "text/plain": [
       "'I currently have two damaging negative remarks on my credit files, these companies have no other intent other than keep me bound by loans. These two companies apparently have paid the credit companies money too re enter bad information on my credit worthiness, I am tired of being violated when there are FRCA rights and the credit companies should pay up for damages on each time. \"? I am seeking justice now, I have fought this for years too the end. I have countless of copies of my credit files that clearly show that negative remarks were re entered way beyond the 7 year period. I think it is time I get money for damages and being violated. The credit companies claim oh the year on the date removed is not here yet. Well it was long passed long ago, I seek answers and stop violating me now. Please contact me and all these crooks, I want too sue for damages but need money for lawyers. I guess if multi million dollar  companies can violate people due their un lack of money, then they need too pay up. XXXX my ph # Please contact all the credit reporting companies and stop this non sense.'"
      ]
     },
     "execution_count": 74,
     "metadata": {},
     "output_type": "execute_result"
    }
   ],
   "source": [
    "df['Consumer complaint narrative'][36]"
   ]
  },
  {
   "cell_type": "code",
   "execution_count": 77,
   "metadata": {},
   "outputs": [
    {
     "data": {
      "text/plain": [
       "'ditech Mortgage- they changed my payment amount and the payment I did make was short about {$35.00} due to a change in escrow. They have not applied the amount that I paid to the account. I over pay every month and there was {$66.00} in unapplied fund that have just disappeared. I really do not know why they are not posting payments when they receive them and if they are hold funds that should be applied to the loan should we expect that they are paying us interest on that money? ditech has been the worst Mortgage company I have ever dealt with. XXXX consumers are complaining about the same information. Please look into this company so that they are treating consumers fairly.'"
      ]
     },
     "execution_count": 77,
     "metadata": {},
     "output_type": "execute_result"
    }
   ],
   "source": [
    "df['Consumer complaint narrative'][37]"
   ]
  },
  {
   "cell_type": "code",
   "execution_count": 75,
   "metadata": {
    "scrolled": true
   },
   "outputs": [
    {
     "data": {
      "text/plain": [
       "\"On XXXX XXXX, 2016 at XXXX. XXXX I received a voicemail from Dynamic Recovery Solutions from XXXX. \\n\\nI called them back at XXXX. XXXX. I requested the name, address, and phone number of who they were calling. He kept asking if I was XXXX XXXX. I finally confirmed I was XXXX XXXX and he took a very long time to finally give me the contact information that follows : Dynamic Recovery Solutions XXXX, SC XXXX XXXX At this point, I requested to know the name and address they had on file for me. He provided an address that was added to my credit report during an incident of identity theft. \\n\\nI asked who they were collecting on behalf of and he asked if I would validate the last XXXX digits of my social security number and then read them too me. I refused to verify this information and he refused to tell me who the collection was for. \\n\\nMy understanding is they should not be handing out even the last XXXX digits of my SSN to anyone, ever. I suspect they are n't a valid debt collector.\""
      ]
     },
     "execution_count": 75,
     "metadata": {},
     "output_type": "execute_result"
    }
   ],
   "source": [
    "df['Consumer complaint narrative'][35]"
   ]
  },
  {
   "cell_type": "code",
   "execution_count": 6,
   "metadata": {},
   "outputs": [],
   "source": [
    "#nltk.download('vader_lexicon')"
   ]
  },
  {
   "cell_type": "code",
   "execution_count": null,
   "metadata": {},
   "outputs": [],
   "source": []
  },
  {
   "cell_type": "code",
   "execution_count": null,
   "metadata": {},
   "outputs": [],
   "source": []
  },
  {
   "cell_type": "code",
   "execution_count": null,
   "metadata": {},
   "outputs": [],
   "source": []
  },
  {
   "cell_type": "code",
   "execution_count": null,
   "metadata": {},
   "outputs": [],
   "source": []
  },
  {
   "cell_type": "code",
   "execution_count": null,
   "metadata": {},
   "outputs": [],
   "source": []
  },
  {
   "cell_type": "code",
   "execution_count": null,
   "metadata": {},
   "outputs": [],
   "source": []
  }
 ],
 "metadata": {
  "kernelspec": {
   "display_name": "Python 3",
   "language": "python",
   "name": "python3"
  },
  "language_info": {
   "codemirror_mode": {
    "name": "ipython",
    "version": 3
   },
   "file_extension": ".py",
   "mimetype": "text/x-python",
   "name": "python",
   "nbconvert_exporter": "python",
   "pygments_lexer": "ipython3",
   "version": "3.8.5"
  }
 },
 "nbformat": 4,
 "nbformat_minor": 4
}
